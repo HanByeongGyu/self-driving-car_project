{
  "nbformat": 4,
  "nbformat_minor": 0,
  "metadata": {
    "colab": {
      "name": "imagenet",
      "provenance": [],
      "collapsed_sections": [],
      "mount_file_id": "1kt8pqirgwk1D-f4sKrB5o_gPP91xhfWf",
      "authorship_tag": "ABX9TyO4519kKjRsJ9RgXrHELm6t",
      "include_colab_link": true
    },
    "kernelspec": {
      "name": "python3",
      "display_name": "Python 3"
    },
    "language_info": {
      "name": "python"
    },
    "accelerator": "GPU"
  },
  "cells": [
    {
      "cell_type": "markdown",
      "metadata": {
        "id": "view-in-github",
        "colab_type": "text"
      },
      "source": [
        "<a href=\"https://colab.research.google.com/github/HanByeongGyu/self-driving-car_project/blob/main/imagenet.ipynb\" target=\"_parent\"><img src=\"https://colab.research.google.com/assets/colab-badge.svg\" alt=\"Open In Colab\"/></a>"
      ]
    },
    {
      "cell_type": "code",
      "metadata": {
        "colab": {
          "base_uri": "https://localhost:8080/"
        },
        "id": "T1ewovuAGbxy",
        "outputId": "0c5287a1-1fa5-4ac7-a721-afaa20aefc28"
      },
      "source": [
        "%cd /content/drive/MyDrive/data"
      ],
      "execution_count": null,
      "outputs": [
        {
          "output_type": "stream",
          "text": [
            "/content/drive/.shortcut-targets-by-id/1SnYc60S9PxgI5cT34bhrD4sZWGMkoT5x/data\n"
          ],
          "name": "stdout"
        }
      ]
    },
    {
      "cell_type": "code",
      "metadata": {
        "colab": {
          "base_uri": "https://localhost:8080/"
        },
        "id": "caeq538VGfaA",
        "outputId": "3d46e527-6925-458e-a275-f75695feb4d1"
      },
      "source": [
        "%ls"
      ],
      "execution_count": null,
      "outputs": [
        {
          "output_type": "stream",
          "text": [
            "ILSVRC2012_devkit_t12.tar.gz  ILSVRC2012_img_val.tar\n",
            "ILSVRC2012_devkit_t3.tar.gz   meta.bin\n"
          ],
          "name": "stdout"
        }
      ]
    },
    {
      "cell_type": "code",
      "metadata": {
        "id": "1RYyDOQyFum_"
      },
      "source": [
        "import torch\n",
        "import torchvision\n",
        "import torchvision.transforms as transforms\n",
        "\n",
        "import torchvision.models as models\n",
        "import torch.nn as nn"
      ],
      "execution_count": null,
      "outputs": []
    },
    {
      "cell_type": "code",
      "metadata": {
        "colab": {
          "base_uri": "https://localhost:8080/"
        },
        "id": "MM4dte5FFxoq",
        "outputId": "418c82a1-eeab-46a4-cc88-254950642614"
      },
      "source": [
        "torch.cuda.is_available()"
      ],
      "execution_count": null,
      "outputs": [
        {
          "output_type": "execute_result",
          "data": {
            "text/plain": [
              "True"
            ]
          },
          "metadata": {
            "tags": []
          },
          "execution_count": 11
        }
      ]
    },
    {
      "cell_type": "code",
      "metadata": {
        "id": "oDda4ie0GPIe"
      },
      "source": [
        "import torch\n",
        "import torchvision\n",
        "import torchvision.transforms as transforms\n",
        "\n",
        "import torchvision.models as models\n",
        "import torch.nn as nn\n",
        "\n",
        "def accuracy(output, target, topk=(1,)):\n",
        "    with torch.no_grad():\n",
        "        maxk = max(topk)\n",
        "        batch_size = target.size(0)\n",
        "\n",
        "        _, pred = output.topk(maxk, 1, largest = True, sorted = True)\n",
        "        pred = pred.t()\n",
        "        correct = (pred == target.unsqueeze(dim=0)).expand_as(pred)\n",
        "\n",
        "        res = []\n",
        "        for k in topk:\n",
        "\n",
        "            correct_k = correct[:k].reshape(-1).float().sum(0, keepdim=True)\n",
        "            res.append(correct_k.mul_(1.0 / batch_size))\n",
        "        return res\n",
        "\n",
        "\n",
        "val_transform = transforms.Compose([\n",
        "    transforms.Resize(256),\n",
        "    transforms.CenterCrop(224),\n",
        "    transforms.ToTensor(),\n",
        "    transforms.Normalize(mean=[0.485,0.456,0.406],std=[0.229,0.224,0.225])\n",
        "])\n",
        "\n",
        "valdate = torchvision.datasets.ImageNet('/content/drive/MyDrive/data', split='val',download=None, transform=val_transform)\n",
        "valLoader = torch.utils.data.DataLoader(valdate, batch_size=4, shuffle=True)\n",
        "\n",
        "\n",
        "\n",
        "alexnet = models.alexnet(pretrained=True)\n",
        "alexnet.cuda()\n",
        "alexnet.eval()\n",
        "cri = nn.CrossEntropyLoss().cuda()\n",
        "c = 0\n",
        "sum = 0;\n",
        "average = 0;\n",
        "for iterlate, (ip, t) in enumerate(valLoader):\n",
        "    ip = ip.cuda()\n",
        "    t = t.cuda()\n",
        "    op = alexnet(ip)\n",
        "    l = cri(op, t)\n",
        "    c+=1\n",
        "    prec = accuracy(op.data, t, topk=(1,5))\n",
        "    value = prec[0].item()\n",
        "    n = ip.size(0)\n",
        "    sum+=value\n",
        "    average = sum/c;\n",
        "    print(\"진행율 {}/{}, 정확도:({:.2f}), 평균:({:.3f})\".format(c,len(valLoader), value, average))\n",
        "print(\"alexnet의 Top1 정확도: \", average*100)\n",
        "alexnet_average = average*100"
      ],
      "execution_count": null,
      "outputs": []
    },
    {
      "cell_type": "code",
      "metadata": {
        "colab": {
          "base_uri": "https://localhost:8080/"
        },
        "id": "id_99dTLOzG2",
        "outputId": "91a6c876-883e-4588-af14-5d72034adea0"
      },
      "source": [
        "round(alexnet_average,3)"
      ],
      "execution_count": null,
      "outputs": [
        {
          "output_type": "execute_result",
          "data": {
            "text/plain": [
              "56.522"
            ]
          },
          "metadata": {
            "tags": []
          },
          "execution_count": 24
        }
      ]
    },
    {
      "cell_type": "code",
      "metadata": {
        "id": "hJo80-oWNR8u"
      },
      "source": [
        "ResNet18 = models.resnet18(pretrained = True)\n",
        "ResNet18.cuda()\n",
        "ResNet18.eval()\n",
        "cri = nn.CrossEntropyLoss().cuda()\n",
        "c = 0\n",
        "sum = 0;\n",
        "average = 0;\n",
        "for iterlate, (ip, t) in enumerate(valLoader):\n",
        "    ip = ip.cuda()\n",
        "    t = t.cuda()\n",
        "    op = ResNet18(ip)\n",
        "    l = cri(op, t)\n",
        "    c+=1\n",
        "    prec = accuracy(op.data, t, topk=(1,5))\n",
        "    value = prec[0].item()\n",
        "    n = ip.size(0)\n",
        "    sum+=value\n",
        "    average = sum/c;\n",
        "    print(\"진행율 {}/{}, 정확도:({:.2f}), 평균:({:.3f})\".format(c,len(valLoader), value, average))\n",
        "print(\"ResNet18의 Top1 정확도: \", average*100)\n",
        "ResNet18_average = average*100"
      ],
      "execution_count": null,
      "outputs": []
    },
    {
      "cell_type": "code",
      "metadata": {
        "id": "vpxFxolWNGDr"
      },
      "source": [
        "VGG16 = models.vgg16(pretrained = True)\n",
        "VGG16.cuda()\n",
        "VGG16.eval()\n",
        "\n",
        "cri = nn.CrossEntropyLoss().cuda()\n",
        "c = 0\n",
        "sum = 0;\n",
        "average = 0;\n",
        "for iterlate, (ip, t) in enumerate(valLoader):\n",
        "    ip = ip.cuda()\n",
        "    t = t.cuda()\n",
        "    op = VGG16(ip)\n",
        "    l = cri(op, t)\n",
        "    c+=1\n",
        "    prec = accuracy(op.data, t, topk=(1,5))\n",
        "    value = prec[0].item()\n",
        "    n = ip.size(0)\n",
        "    sum+=value\n",
        "    average = sum/c;\n",
        "    print(\"진행율 {}/{}, 정확도:({:.2f}), 평균:({:.3f})\".format(c,len(valLoader), value, average))\n",
        "print(\"VGG16의 Top1 정확도: \", average*100)\n",
        "VGG16_average = average*100"
      ],
      "execution_count": null,
      "outputs": []
    },
    {
      "cell_type": "code",
      "metadata": {
        "id": "lm4dOzlINdYy"
      },
      "source": [
        "GoogLeNet = models.googlenet(pretrained=True)\n",
        "GoogLeNet.cuda()\n",
        "GoogLeNet.eval\n",
        "\n",
        "cri = nn.CrossEntropyLoss().cuda()\n",
        "c = 0\n",
        "sum = 0;\n",
        "average = 0;\n",
        "for iterlate, (ip, t) in enumerate(valLoader):\n",
        "    ip = ip.cuda()\n",
        "    t = t.cuda()\n",
        "    op = GoogLeNet(ip)\n",
        "    l = cri(op, t)\n",
        "    c+=1\n",
        "    prec = accuracy(op.data, t, topk=(1,5))\n",
        "    value = prec[0].item()\n",
        "    n = ip.size(0)\n",
        "    sum+=value\n",
        "    average = sum/c;\n",
        "    print(\"진행율 {}/{}, 정확도:({:.2f}), 평균:({:.3f})\".format(c,len(valLoader), value, average))\n",
        "print(\"GoogLeNet의 Top1 정확도: \", average*100)\n",
        "GoogLeNet_average = average*100"
      ],
      "execution_count": null,
      "outputs": []
    },
    {
      "cell_type": "code",
      "metadata": {
        "colab": {
          "base_uri": "https://localhost:8080/"
        },
        "id": "viRRHqjUttKI",
        "outputId": "beeec01c-3c1c-4a4c-8836-b6361acd2bd2"
      },
      "source": [
        "GoogLeNet_average"
      ],
      "execution_count": null,
      "outputs": [
        {
          "output_type": "execute_result",
          "data": {
            "text/plain": [
              "48.954"
            ]
          },
          "metadata": {
            "tags": []
          },
          "execution_count": 29
        }
      ]
    },
    {
      "cell_type": "code",
      "metadata": {
        "id": "RyX3D395tvdy"
      },
      "source": [
        "import pandas as pd"
      ],
      "execution_count": null,
      "outputs": []
    },
    {
      "cell_type": "code",
      "metadata": {
        "colab": {
          "base_uri": "https://localhost:8080/",
          "height": 166
        },
        "id": "kxVgz84mtx6a",
        "outputId": "806468b6-3316-4ad5-9c95-9f4f49e47fa0"
      },
      "source": [
        "Output = pd.DataFrame({'Model' : ['alexnet', 'ResNet18', 'VGG16', 'GoogLeNet'], 'Average' : [alexnet_average, ResNet18_average, VGG16_average, GoogLeNet_average]}).sort_values(by = 'Average', ascending = False).reset_index()\n",
        "Output"
      ],
      "execution_count": null,
      "outputs": [
        {
          "output_type": "execute_result",
          "data": {
            "text/html": [
              "<div>\n",
              "<style scoped>\n",
              "    .dataframe tbody tr th:only-of-type {\n",
              "        vertical-align: middle;\n",
              "    }\n",
              "\n",
              "    .dataframe tbody tr th {\n",
              "        vertical-align: top;\n",
              "    }\n",
              "\n",
              "    .dataframe thead th {\n",
              "        text-align: right;\n",
              "    }\n",
              "</style>\n",
              "<table border=\"1\" class=\"dataframe\">\n",
              "  <thead>\n",
              "    <tr style=\"text-align: right;\">\n",
              "      <th></th>\n",
              "      <th>index</th>\n",
              "      <th>Model</th>\n",
              "      <th>Average</th>\n",
              "    </tr>\n",
              "  </thead>\n",
              "  <tbody>\n",
              "    <tr>\n",
              "      <th>0</th>\n",
              "      <td>2</td>\n",
              "      <td>VGG16</td>\n",
              "      <td>71.592</td>\n",
              "    </tr>\n",
              "    <tr>\n",
              "      <th>1</th>\n",
              "      <td>1</td>\n",
              "      <td>ResNet18</td>\n",
              "      <td>69.758</td>\n",
              "    </tr>\n",
              "    <tr>\n",
              "      <th>2</th>\n",
              "      <td>0</td>\n",
              "      <td>alexnet</td>\n",
              "      <td>56.522</td>\n",
              "    </tr>\n",
              "    <tr>\n",
              "      <th>3</th>\n",
              "      <td>3</td>\n",
              "      <td>GoogLeNet</td>\n",
              "      <td>48.954</td>\n",
              "    </tr>\n",
              "  </tbody>\n",
              "</table>\n",
              "</div>"
            ],
            "text/plain": [
              "   index      Model  Average\n",
              "0      2      VGG16   71.592\n",
              "1      1   ResNet18   69.758\n",
              "2      0    alexnet   56.522\n",
              "3      3  GoogLeNet   48.954"
            ]
          },
          "metadata": {
            "tags": []
          },
          "execution_count": 36
        }
      ]
    },
    {
      "cell_type": "code",
      "metadata": {
        "colab": {
          "base_uri": "https://localhost:8080/",
          "height": 166
        },
        "id": "UOlHnHtAunY0",
        "outputId": "0d2d7b75-299c-461a-e07c-c7970ed5c709"
      },
      "source": [
        "Output.drop('index', axis = 1)"
      ],
      "execution_count": null,
      "outputs": [
        {
          "output_type": "execute_result",
          "data": {
            "text/html": [
              "<div>\n",
              "<style scoped>\n",
              "    .dataframe tbody tr th:only-of-type {\n",
              "        vertical-align: middle;\n",
              "    }\n",
              "\n",
              "    .dataframe tbody tr th {\n",
              "        vertical-align: top;\n",
              "    }\n",
              "\n",
              "    .dataframe thead th {\n",
              "        text-align: right;\n",
              "    }\n",
              "</style>\n",
              "<table border=\"1\" class=\"dataframe\">\n",
              "  <thead>\n",
              "    <tr style=\"text-align: right;\">\n",
              "      <th></th>\n",
              "      <th>Model</th>\n",
              "      <th>Average</th>\n",
              "    </tr>\n",
              "  </thead>\n",
              "  <tbody>\n",
              "    <tr>\n",
              "      <th>0</th>\n",
              "      <td>VGG16</td>\n",
              "      <td>71.592</td>\n",
              "    </tr>\n",
              "    <tr>\n",
              "      <th>1</th>\n",
              "      <td>ResNet18</td>\n",
              "      <td>69.758</td>\n",
              "    </tr>\n",
              "    <tr>\n",
              "      <th>2</th>\n",
              "      <td>alexnet</td>\n",
              "      <td>56.522</td>\n",
              "    </tr>\n",
              "    <tr>\n",
              "      <th>3</th>\n",
              "      <td>GoogLeNet</td>\n",
              "      <td>48.954</td>\n",
              "    </tr>\n",
              "  </tbody>\n",
              "</table>\n",
              "</div>"
            ],
            "text/plain": [
              "       Model  Average\n",
              "0      VGG16   71.592\n",
              "1   ResNet18   69.758\n",
              "2    alexnet   56.522\n",
              "3  GoogLeNet   48.954"
            ]
          },
          "metadata": {
            "tags": []
          },
          "execution_count": 37
        }
      ]
    }
  ]
}